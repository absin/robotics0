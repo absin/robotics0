{
 "cells": [
  {
   "cell_type": "markdown",
   "id": "480d4e7f-7cda-47fa-b69d-80569ea5e835",
   "metadata": {},
   "source": [
    "## To check if png and packing produce similar results"
   ]
  },
  {
   "cell_type": "code",
   "execution_count": 7,
   "id": "ad332297-2705-48f1-bee2-86c51773fb95",
   "metadata": {},
   "outputs": [],
   "source": [
    "import imageio\n",
    "import gymnasium as gym\n",
    "import numpy as np\n",
    "import gym_aloha\n",
    "import numpy\n",
    "import matplotlib.pyplot as plt\n",
    "\n",
    "from PIL import Image\n"
   ]
  },
  {
   "cell_type": "code",
   "execution_count": 2,
   "id": "faa7dd5a-e742-4a70-a3ef-c41793f10656",
   "metadata": {},
   "outputs": [],
   "source": [
    "env = gym.make(\"gym_aloha/AlohaTransferCube-v0\",obs_type=\"pixels_agent_pos\",max_episode_steps=300,render_mode='rgb_array')\n",
    "observation, info = env.reset()\n"
   ]
  },
  {
   "cell_type": "code",
   "execution_count": 5,
   "id": "86f69b3d-51d3-4841-9bd0-b8fe99d0273f",
   "metadata": {},
   "outputs": [
    {
     "data": {
      "text/plain": [
       "(480, 640, 3)"
      ]
     },
     "execution_count": 5,
     "metadata": {},
     "output_type": "execute_result"
    }
   ],
   "source": [
    "observation['pixels']['top'].shape"
   ]
  },
  {
   "cell_type": "code",
   "execution_count": 9,
   "id": "ad7ecbaa-4c50-4dbd-9a2d-890a24bbcd59",
   "metadata": {},
   "outputs": [
    {
     "data": {
      "text/plain": [
       "(480, 640, 3)"
      ]
     },
     "execution_count": 9,
     "metadata": {},
     "output_type": "execute_result"
    }
   ],
   "source": [
    "# save to img then read from img back and compare the array\n",
    "im = Image.fromarray(observation['pixels']['top'])\n",
    "image_path = 'test.png'\n",
    "im.save(image_path)\n",
    "image = Image.open('test.png').convert('RGB')\n",
    "image_arr = np.array(image)\n",
    "image_arr.shape"
   ]
  },
  {
   "cell_type": "code",
   "execution_count": 11,
   "id": "f246c62b-ee3a-4787-abc0-df138b546039",
   "metadata": {},
   "outputs": [
    {
     "data": {
      "text/plain": [
       "np.True_"
      ]
     },
     "execution_count": 11,
     "metadata": {},
     "output_type": "execute_result"
    }
   ],
   "source": [
    "(image_arr == observation['pixels']['top']).all()"
   ]
  },
  {
   "cell_type": "code",
   "execution_count": null,
   "id": "3ad49dc8-a071-448d-a184-c73f3a6cef4b",
   "metadata": {},
   "outputs": [],
   "source": []
  }
 ],
 "metadata": {
  "kernelspec": {
   "display_name": "Python 3 (ipykernel)",
   "language": "python",
   "name": "python3"
  },
  "language_info": {
   "codemirror_mode": {
    "name": "ipython",
    "version": 3
   },
   "file_extension": ".py",
   "mimetype": "text/x-python",
   "name": "python",
   "nbconvert_exporter": "python",
   "pygments_lexer": "ipython3",
   "version": "3.11.11"
  }
 },
 "nbformat": 4,
 "nbformat_minor": 5
}
