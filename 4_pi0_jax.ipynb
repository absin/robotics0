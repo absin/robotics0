{
 "cells": [
  {
   "cell_type": "code",
   "execution_count": 4,
   "id": "c03a9ced-cf4b-4f38-8327-5a54381a30e2",
   "metadata": {},
   "outputs": [],
   "source": [
    "import dataclasses\n",
    "import jax\n",
    "\n",
    "from openpi.models import model as _model\n",
    "from openpi.policies import droid_policy\n",
    "from openpi.policies import policy_config as _policy_config\n",
    "from openpi.shared import download\n",
    "from openpi.training import config as _config\n",
    "from openpi.training import data_loader as _data_loader\n",
    "import time"
   ]
  },
  {
   "cell_type": "code",
   "execution_count": 3,
   "id": "da51d808-49f3-4265-abdf-f5f975ba4b5b",
   "metadata": {},
   "outputs": [
    {
     "name": "stderr",
     "output_type": "stream",
     "text": [
      "Some kwargs in processor config are unused and will not have any effect: min_token, scale, action_dim, time_horizon, vocab_size. \n",
      "Some kwargs in processor config are unused and will not have any effect: min_token, scale, action_dim, time_horizon, vocab_size. \n"
     ]
    }
   ],
   "source": [
    "config = _config.get_config(\"pi0_fast_droid\")\n",
    "checkpoint_dir = download.maybe_download(\"s3://openpi-assets/checkpoints/pi0_fast_droid\")\n",
    "\n",
    "# Create a trained policy.\n",
    "policy = _policy_config.create_trained_policy(config, checkpoint_dir)\n",
    "\n"
   ]
  },
  {
   "cell_type": "code",
   "execution_count": 5,
   "id": "4a299479-e6c9-41ac-9393-ca009df31c66",
   "metadata": {},
   "outputs": [
    {
     "name": "stdout",
     "output_type": "stream",
     "text": [
      "Ran one inference in 470.2229561805725\n"
     ]
    }
   ],
   "source": [
    "start = time.time()\n",
    "# Run inference on a dummy example. This example corresponds to observations produced by the DROID runtime.\n",
    "example = droid_policy.make_droid_example()\n",
    "result = policy.infer(example)\n",
    "print('Ran one inference in {}'.format(time.time() - start))"
   ]
  },
  {
   "cell_type": "code",
   "execution_count": 5,
   "id": "1165d9d3-5f9b-4f2f-844b-812d12c45de3",
   "metadata": {},
   "outputs": [
    {
     "data": {
      "text/plain": [
       "(10, 8)"
      ]
     },
     "execution_count": 5,
     "metadata": {},
     "output_type": "execute_result"
    }
   ],
   "source": [
    "\n",
    "result['actions'].shape"
   ]
  },
  {
   "cell_type": "code",
   "execution_count": 6,
   "id": "6a7d9716-bd62-4065-a9f9-0bb1c9346aac",
   "metadata": {},
   "outputs": [],
   "source": [
    "del policy"
   ]
  },
  {
   "cell_type": "code",
   "execution_count": 8,
   "id": "999a8d8a-6ad5-43a6-82b9-01632b1c2911",
   "metadata": {},
   "outputs": [
    {
     "data": {
      "text/plain": [
       "(224, 224, 3)"
      ]
     },
     "execution_count": 8,
     "metadata": {},
     "output_type": "execute_result"
    }
   ],
   "source": [
    "example['observation/exterior_image_1_left'].shape"
   ]
  },
  {
   "cell_type": "code",
   "execution_count": 1,
   "id": "777bafaf-2081-44a2-b0ee-4a91c7b66a5f",
   "metadata": {},
   "outputs": [],
   "source": [
    "import imageio\n",
    "import gymnasium as gym\n",
    "import numpy as np\n",
    "import gym_so100\n",
    "import numpy\n",
    "import torch"
   ]
  },
  {
   "cell_type": "code",
   "execution_count": null,
   "id": "88823d22-b646-45b5-8bcd-7be11db61a2e",
   "metadata": {},
   "outputs": [],
   "source": []
  }
 ],
 "metadata": {
  "kernelspec": {
   "display_name": "Python 3 (ipykernel)",
   "language": "python",
   "name": "python3"
  },
  "language_info": {
   "codemirror_mode": {
    "name": "ipython",
    "version": 3
   },
   "file_extension": ".py",
   "mimetype": "text/x-python",
   "name": "python",
   "nbconvert_exporter": "python",
   "pygments_lexer": "ipython3",
   "version": "3.11.11"
  }
 },
 "nbformat": 4,
 "nbformat_minor": 5
}
