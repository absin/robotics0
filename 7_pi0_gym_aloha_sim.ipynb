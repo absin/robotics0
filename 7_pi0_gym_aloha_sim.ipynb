{
 "cells": [
  {
   "cell_type": "code",
   "execution_count": 26,
   "id": "9ccfb4d3-f686-4564-97d4-3d2094cccb25",
   "metadata": {},
   "outputs": [],
   "source": [
    "import imageio\n",
    "import gymnasium as gym\n",
    "import numpy as np\n",
    "import gym_aloha\n",
    "import numpy\n",
    "from PIL import Image\n",
    "import matplotlib.pyplot as plt\n",
    "import numpy as np\n",
    "import requests\n",
    "import uuid"
   ]
  },
  {
   "cell_type": "code",
   "execution_count": 43,
   "id": "27386f77-6497-4c0a-a4d9-cf844f2be023",
   "metadata": {},
   "outputs": [],
   "source": [
    "env = gym.make(\"gym_aloha/AlohaTransferCube-v0\",obs_type=\"pixels_agent_pos\",max_episode_steps=1000,render_mode='rgb_array')\n"
   ]
  },
  {
   "cell_type": "code",
   "execution_count": null,
   "id": "5131dc95-9cf3-4d10-bb75-bcde11eba677",
   "metadata": {},
   "outputs": [],
   "source": [
    "#curl -X POST -F \"file=@/home/absin/Documents/robotics0/my.png\" -F \"state=[1.0, 1.0, 1.0, 1.0, 1.0, 1.0, 1.0, 1.0, 1.0, 1.0, 1.0, 1.0, 1.0, 1.0]\"  http://13.234.117.205:5000/file \n"
   ]
  },
  {
   "cell_type": "code",
   "execution_count": 49,
   "id": "499eac6d-49da-4560-809d-92c8872f61b5",
   "metadata": {},
   "outputs": [
    {
     "name": "stdout",
     "output_type": "stream",
     "text": [
      "Asking for more actions\n",
      "Asking for more actions\n",
      "Asking for more actions\n",
      "Asking for more actions\n",
      "Asking for more actions\n",
      "Asking for more actions\n",
      "Asking for more actions\n",
      "Asking for more actions\n",
      "Asking for more actions\n",
      "Asking for more actions\n",
      "Asking for more actions\n",
      "Asking for more actions\n",
      "Asking for more actions\n",
      "Asking for more actions\n",
      "Asking for more actions\n",
      "Asking for more actions\n",
      "Asking for more actions\n",
      "Asking for more actions\n",
      "Asking for more actions\n",
      "Asking for more actions\n"
     ]
    }
   ],
   "source": [
    "observation, info = env.reset()\n",
    "frames = []\n",
    "url = \"http://13.234.117.205:5000/file\"\n",
    "do_continue = True\n",
    "action_counter = 0\n",
    "request_counter = 0\n",
    "\n",
    "for _ in range(300):\n",
    "    frame = observation['pixels']['top']\n",
    "    state_data = observation['agent_pos'].tolist()\n",
    "    frames.append(frame)\n",
    "    im = Image.fromarray(frame)\n",
    "    image_path = '/home/absin/Documents/images/'+str(request_counter)+'_'+str(uuid.uuid4())+'.png'\n",
    "    im.save(image_path)\n",
    "    with open(image_path, 'rb') as file:\n",
    "        files = {'file': file}\n",
    "        data = {'state': str(state_data), 'prompt': 'transfer the cube from right hand to left hand'}\n",
    "        response = requests.post(url, files=files, data=data)\n",
    "        request_counter = request_counter+1\n",
    "        print('Asking for more actions')\n",
    "    for action_arr in response.json()['body']:\n",
    "        action_ = np.array(action_arr, dtype='float32')\n",
    "        observation, reward, terminated, truncated, info = env.step(action_)\n",
    "        action_counter = action_counter + 1\n",
    "        #print('Action --> '+str(action_counter))\n",
    "        frame = observation['pixels']['top']\n",
    "        #im = Image.fromarray(frame)\n",
    "        #image_path = '/home/absin/Documents/images/'+str(uuid.uuid4())+'.png'\n",
    "        #im.save(image_path)\n",
    "        frames.append(frame)\n",
    "        if terminated or truncated:\n",
    "            do_continue = False\n",
    "            break\n",
    "    if not do_continue:\n",
    "        break\n",
    "        "
   ]
  },
  {
   "cell_type": "code",
   "execution_count": 50,
   "id": "2edb1714-50f7-48c1-bdcf-6636c090f507",
   "metadata": {},
   "outputs": [],
   "source": [
    "env.close()\n",
    "imageio.mimsave(\"/home/absin/Documents/images/1.mp4\", np.stack(frames), fps=25)"
   ]
  },
  {
   "cell_type": "code",
   "execution_count": null,
   "id": "77fa8170-8cde-4e40-af20-be3080db258a",
   "metadata": {},
   "outputs": [],
   "source": []
  }
 ],
 "metadata": {
  "kernelspec": {
   "display_name": "Python 3 (ipykernel)",
   "language": "python",
   "name": "python3"
  },
  "language_info": {
   "codemirror_mode": {
    "name": "ipython",
    "version": 3
   },
   "file_extension": ".py",
   "mimetype": "text/x-python",
   "name": "python",
   "nbconvert_exporter": "python",
   "pygments_lexer": "ipython3",
   "version": "3.11.11"
  }
 },
 "nbformat": 4,
 "nbformat_minor": 5
}
